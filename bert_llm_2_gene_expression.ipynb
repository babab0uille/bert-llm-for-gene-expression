{
  "nbformat": 4,
  "nbformat_minor": 0,
  "metadata": {
    "colab": {
      "provenance": []
    },
    "kernelspec": {
      "name": "python3",
      "display_name": "Python 3"
    },
    "language_info": {
      "name": "python"
    },
    "widgets": {
      "application/vnd.jupyter.widget-state+json": {
        "7274a56280464c74814124b3c392a02d": {
          "model_module": "@jupyter-widgets/controls",
          "model_name": "HBoxModel",
          "model_module_version": "1.5.0",
          "state": {
            "_dom_classes": [],
            "_model_module": "@jupyter-widgets/controls",
            "_model_module_version": "1.5.0",
            "_model_name": "HBoxModel",
            "_view_count": null,
            "_view_module": "@jupyter-widgets/controls",
            "_view_module_version": "1.5.0",
            "_view_name": "HBoxView",
            "box_style": "",
            "children": [
              "IPY_MODEL_b360337378464a7cbd3353f7ed403194",
              "IPY_MODEL_bdd22edf3c804f59b0dc825e9ca4c0c2",
              "IPY_MODEL_37b6ad44c59b408894770388c5efa87b"
            ],
            "layout": "IPY_MODEL_b60f1073ae474e17a197a7d572e3c250"
          }
        },
        "b360337378464a7cbd3353f7ed403194": {
          "model_module": "@jupyter-widgets/controls",
          "model_name": "HTMLModel",
          "model_module_version": "1.5.0",
          "state": {
            "_dom_classes": [],
            "_model_module": "@jupyter-widgets/controls",
            "_model_module_version": "1.5.0",
            "_model_name": "HTMLModel",
            "_view_count": null,
            "_view_module": "@jupyter-widgets/controls",
            "_view_module_version": "1.5.0",
            "_view_name": "HTMLView",
            "description": "",
            "description_tooltip": null,
            "layout": "IPY_MODEL_5c98b8659d044e1ca4edb5f3bc2278ac",
            "placeholder": "​",
            "style": "IPY_MODEL_eb3c17be0b414020a6143576dea27d33",
            "value": "Map: 100%"
          }
        },
        "bdd22edf3c804f59b0dc825e9ca4c0c2": {
          "model_module": "@jupyter-widgets/controls",
          "model_name": "FloatProgressModel",
          "model_module_version": "1.5.0",
          "state": {
            "_dom_classes": [],
            "_model_module": "@jupyter-widgets/controls",
            "_model_module_version": "1.5.0",
            "_model_name": "FloatProgressModel",
            "_view_count": null,
            "_view_module": "@jupyter-widgets/controls",
            "_view_module_version": "1.5.0",
            "_view_name": "ProgressView",
            "bar_style": "success",
            "description": "",
            "description_tooltip": null,
            "layout": "IPY_MODEL_ac0a00eaa1884477806e632c2e3d14ba",
            "max": 2,
            "min": 0,
            "orientation": "horizontal",
            "style": "IPY_MODEL_c1b05302d2224b098a156e200155b0f4",
            "value": 2
          }
        },
        "37b6ad44c59b408894770388c5efa87b": {
          "model_module": "@jupyter-widgets/controls",
          "model_name": "HTMLModel",
          "model_module_version": "1.5.0",
          "state": {
            "_dom_classes": [],
            "_model_module": "@jupyter-widgets/controls",
            "_model_module_version": "1.5.0",
            "_model_name": "HTMLModel",
            "_view_count": null,
            "_view_module": "@jupyter-widgets/controls",
            "_view_module_version": "1.5.0",
            "_view_name": "HTMLView",
            "description": "",
            "description_tooltip": null,
            "layout": "IPY_MODEL_1cb759381d9d4b43983de898c9830a72",
            "placeholder": "​",
            "style": "IPY_MODEL_69dc3c1ce3ae456484aa8c1554d91102",
            "value": " 2/2 [00:00&lt;00:00, 27.07 examples/s]"
          }
        },
        "b60f1073ae474e17a197a7d572e3c250": {
          "model_module": "@jupyter-widgets/base",
          "model_name": "LayoutModel",
          "model_module_version": "1.2.0",
          "state": {
            "_model_module": "@jupyter-widgets/base",
            "_model_module_version": "1.2.0",
            "_model_name": "LayoutModel",
            "_view_count": null,
            "_view_module": "@jupyter-widgets/base",
            "_view_module_version": "1.2.0",
            "_view_name": "LayoutView",
            "align_content": null,
            "align_items": null,
            "align_self": null,
            "border": null,
            "bottom": null,
            "display": null,
            "flex": null,
            "flex_flow": null,
            "grid_area": null,
            "grid_auto_columns": null,
            "grid_auto_flow": null,
            "grid_auto_rows": null,
            "grid_column": null,
            "grid_gap": null,
            "grid_row": null,
            "grid_template_areas": null,
            "grid_template_columns": null,
            "grid_template_rows": null,
            "height": null,
            "justify_content": null,
            "justify_items": null,
            "left": null,
            "margin": null,
            "max_height": null,
            "max_width": null,
            "min_height": null,
            "min_width": null,
            "object_fit": null,
            "object_position": null,
            "order": null,
            "overflow": null,
            "overflow_x": null,
            "overflow_y": null,
            "padding": null,
            "right": null,
            "top": null,
            "visibility": null,
            "width": null
          }
        },
        "5c98b8659d044e1ca4edb5f3bc2278ac": {
          "model_module": "@jupyter-widgets/base",
          "model_name": "LayoutModel",
          "model_module_version": "1.2.0",
          "state": {
            "_model_module": "@jupyter-widgets/base",
            "_model_module_version": "1.2.0",
            "_model_name": "LayoutModel",
            "_view_count": null,
            "_view_module": "@jupyter-widgets/base",
            "_view_module_version": "1.2.0",
            "_view_name": "LayoutView",
            "align_content": null,
            "align_items": null,
            "align_self": null,
            "border": null,
            "bottom": null,
            "display": null,
            "flex": null,
            "flex_flow": null,
            "grid_area": null,
            "grid_auto_columns": null,
            "grid_auto_flow": null,
            "grid_auto_rows": null,
            "grid_column": null,
            "grid_gap": null,
            "grid_row": null,
            "grid_template_areas": null,
            "grid_template_columns": null,
            "grid_template_rows": null,
            "height": null,
            "justify_content": null,
            "justify_items": null,
            "left": null,
            "margin": null,
            "max_height": null,
            "max_width": null,
            "min_height": null,
            "min_width": null,
            "object_fit": null,
            "object_position": null,
            "order": null,
            "overflow": null,
            "overflow_x": null,
            "overflow_y": null,
            "padding": null,
            "right": null,
            "top": null,
            "visibility": null,
            "width": null
          }
        },
        "eb3c17be0b414020a6143576dea27d33": {
          "model_module": "@jupyter-widgets/controls",
          "model_name": "DescriptionStyleModel",
          "model_module_version": "1.5.0",
          "state": {
            "_model_module": "@jupyter-widgets/controls",
            "_model_module_version": "1.5.0",
            "_model_name": "DescriptionStyleModel",
            "_view_count": null,
            "_view_module": "@jupyter-widgets/base",
            "_view_module_version": "1.2.0",
            "_view_name": "StyleView",
            "description_width": ""
          }
        },
        "ac0a00eaa1884477806e632c2e3d14ba": {
          "model_module": "@jupyter-widgets/base",
          "model_name": "LayoutModel",
          "model_module_version": "1.2.0",
          "state": {
            "_model_module": "@jupyter-widgets/base",
            "_model_module_version": "1.2.0",
            "_model_name": "LayoutModel",
            "_view_count": null,
            "_view_module": "@jupyter-widgets/base",
            "_view_module_version": "1.2.0",
            "_view_name": "LayoutView",
            "align_content": null,
            "align_items": null,
            "align_self": null,
            "border": null,
            "bottom": null,
            "display": null,
            "flex": null,
            "flex_flow": null,
            "grid_area": null,
            "grid_auto_columns": null,
            "grid_auto_flow": null,
            "grid_auto_rows": null,
            "grid_column": null,
            "grid_gap": null,
            "grid_row": null,
            "grid_template_areas": null,
            "grid_template_columns": null,
            "grid_template_rows": null,
            "height": null,
            "justify_content": null,
            "justify_items": null,
            "left": null,
            "margin": null,
            "max_height": null,
            "max_width": null,
            "min_height": null,
            "min_width": null,
            "object_fit": null,
            "object_position": null,
            "order": null,
            "overflow": null,
            "overflow_x": null,
            "overflow_y": null,
            "padding": null,
            "right": null,
            "top": null,
            "visibility": null,
            "width": null
          }
        },
        "c1b05302d2224b098a156e200155b0f4": {
          "model_module": "@jupyter-widgets/controls",
          "model_name": "ProgressStyleModel",
          "model_module_version": "1.5.0",
          "state": {
            "_model_module": "@jupyter-widgets/controls",
            "_model_module_version": "1.5.0",
            "_model_name": "ProgressStyleModel",
            "_view_count": null,
            "_view_module": "@jupyter-widgets/base",
            "_view_module_version": "1.2.0",
            "_view_name": "StyleView",
            "bar_color": null,
            "description_width": ""
          }
        },
        "1cb759381d9d4b43983de898c9830a72": {
          "model_module": "@jupyter-widgets/base",
          "model_name": "LayoutModel",
          "model_module_version": "1.2.0",
          "state": {
            "_model_module": "@jupyter-widgets/base",
            "_model_module_version": "1.2.0",
            "_model_name": "LayoutModel",
            "_view_count": null,
            "_view_module": "@jupyter-widgets/base",
            "_view_module_version": "1.2.0",
            "_view_name": "LayoutView",
            "align_content": null,
            "align_items": null,
            "align_self": null,
            "border": null,
            "bottom": null,
            "display": null,
            "flex": null,
            "flex_flow": null,
            "grid_area": null,
            "grid_auto_columns": null,
            "grid_auto_flow": null,
            "grid_auto_rows": null,
            "grid_column": null,
            "grid_gap": null,
            "grid_row": null,
            "grid_template_areas": null,
            "grid_template_columns": null,
            "grid_template_rows": null,
            "height": null,
            "justify_content": null,
            "justify_items": null,
            "left": null,
            "margin": null,
            "max_height": null,
            "max_width": null,
            "min_height": null,
            "min_width": null,
            "object_fit": null,
            "object_position": null,
            "order": null,
            "overflow": null,
            "overflow_x": null,
            "overflow_y": null,
            "padding": null,
            "right": null,
            "top": null,
            "visibility": null,
            "width": null
          }
        },
        "69dc3c1ce3ae456484aa8c1554d91102": {
          "model_module": "@jupyter-widgets/controls",
          "model_name": "DescriptionStyleModel",
          "model_module_version": "1.5.0",
          "state": {
            "_model_module": "@jupyter-widgets/controls",
            "_model_module_version": "1.5.0",
            "_model_name": "DescriptionStyleModel",
            "_view_count": null,
            "_view_module": "@jupyter-widgets/base",
            "_view_module_version": "1.2.0",
            "_view_name": "StyleView",
            "description_width": ""
          }
        },
        "b823b420658e4ee38ab1624239f62099": {
          "model_module": "@jupyter-widgets/controls",
          "model_name": "HBoxModel",
          "model_module_version": "1.5.0",
          "state": {
            "_dom_classes": [],
            "_model_module": "@jupyter-widgets/controls",
            "_model_module_version": "1.5.0",
            "_model_name": "HBoxModel",
            "_view_count": null,
            "_view_module": "@jupyter-widgets/controls",
            "_view_module_version": "1.5.0",
            "_view_name": "HBoxView",
            "box_style": "",
            "children": [
              "IPY_MODEL_8aeb31c060094f169a50f82a04429ec4",
              "IPY_MODEL_7b095996f7be488f8023191a823d4e1d",
              "IPY_MODEL_7288b73d57fd4c84b34fbe8b0b0e37df"
            ],
            "layout": "IPY_MODEL_247338a1a989499895b64b9f166bcf35"
          }
        },
        "8aeb31c060094f169a50f82a04429ec4": {
          "model_module": "@jupyter-widgets/controls",
          "model_name": "HTMLModel",
          "model_module_version": "1.5.0",
          "state": {
            "_dom_classes": [],
            "_model_module": "@jupyter-widgets/controls",
            "_model_module_version": "1.5.0",
            "_model_name": "HTMLModel",
            "_view_count": null,
            "_view_module": "@jupyter-widgets/controls",
            "_view_module_version": "1.5.0",
            "_view_name": "HTMLView",
            "description": "",
            "description_tooltip": null,
            "layout": "IPY_MODEL_6a72010478704423a9ab401f85a3245c",
            "placeholder": "​",
            "style": "IPY_MODEL_361736b10d9e40e4a99acf854e453dc5",
            "value": "model.safetensors: 100%"
          }
        },
        "7b095996f7be488f8023191a823d4e1d": {
          "model_module": "@jupyter-widgets/controls",
          "model_name": "FloatProgressModel",
          "model_module_version": "1.5.0",
          "state": {
            "_dom_classes": [],
            "_model_module": "@jupyter-widgets/controls",
            "_model_module_version": "1.5.0",
            "_model_name": "FloatProgressModel",
            "_view_count": null,
            "_view_module": "@jupyter-widgets/controls",
            "_view_module_version": "1.5.0",
            "_view_name": "ProgressView",
            "bar_style": "success",
            "description": "",
            "description_tooltip": null,
            "layout": "IPY_MODEL_402a7d3aef34402b9609519b96a33c3c",
            "max": 440449768,
            "min": 0,
            "orientation": "horizontal",
            "style": "IPY_MODEL_f0680b448725499ab23a053984b93f17",
            "value": 440449768
          }
        },
        "7288b73d57fd4c84b34fbe8b0b0e37df": {
          "model_module": "@jupyter-widgets/controls",
          "model_name": "HTMLModel",
          "model_module_version": "1.5.0",
          "state": {
            "_dom_classes": [],
            "_model_module": "@jupyter-widgets/controls",
            "_model_module_version": "1.5.0",
            "_model_name": "HTMLModel",
            "_view_count": null,
            "_view_module": "@jupyter-widgets/controls",
            "_view_module_version": "1.5.0",
            "_view_name": "HTMLView",
            "description": "",
            "description_tooltip": null,
            "layout": "IPY_MODEL_fb8ea4330eeb4bf888c75e90e18f0433",
            "placeholder": "​",
            "style": "IPY_MODEL_0a0b9b113bf048d98fc56fb5ffca4c33",
            "value": " 440M/440M [00:02&lt;00:00, 214MB/s]"
          }
        },
        "247338a1a989499895b64b9f166bcf35": {
          "model_module": "@jupyter-widgets/base",
          "model_name": "LayoutModel",
          "model_module_version": "1.2.0",
          "state": {
            "_model_module": "@jupyter-widgets/base",
            "_model_module_version": "1.2.0",
            "_model_name": "LayoutModel",
            "_view_count": null,
            "_view_module": "@jupyter-widgets/base",
            "_view_module_version": "1.2.0",
            "_view_name": "LayoutView",
            "align_content": null,
            "align_items": null,
            "align_self": null,
            "border": null,
            "bottom": null,
            "display": null,
            "flex": null,
            "flex_flow": null,
            "grid_area": null,
            "grid_auto_columns": null,
            "grid_auto_flow": null,
            "grid_auto_rows": null,
            "grid_column": null,
            "grid_gap": null,
            "grid_row": null,
            "grid_template_areas": null,
            "grid_template_columns": null,
            "grid_template_rows": null,
            "height": null,
            "justify_content": null,
            "justify_items": null,
            "left": null,
            "margin": null,
            "max_height": null,
            "max_width": null,
            "min_height": null,
            "min_width": null,
            "object_fit": null,
            "object_position": null,
            "order": null,
            "overflow": null,
            "overflow_x": null,
            "overflow_y": null,
            "padding": null,
            "right": null,
            "top": null,
            "visibility": null,
            "width": null
          }
        },
        "6a72010478704423a9ab401f85a3245c": {
          "model_module": "@jupyter-widgets/base",
          "model_name": "LayoutModel",
          "model_module_version": "1.2.0",
          "state": {
            "_model_module": "@jupyter-widgets/base",
            "_model_module_version": "1.2.0",
            "_model_name": "LayoutModel",
            "_view_count": null,
            "_view_module": "@jupyter-widgets/base",
            "_view_module_version": "1.2.0",
            "_view_name": "LayoutView",
            "align_content": null,
            "align_items": null,
            "align_self": null,
            "border": null,
            "bottom": null,
            "display": null,
            "flex": null,
            "flex_flow": null,
            "grid_area": null,
            "grid_auto_columns": null,
            "grid_auto_flow": null,
            "grid_auto_rows": null,
            "grid_column": null,
            "grid_gap": null,
            "grid_row": null,
            "grid_template_areas": null,
            "grid_template_columns": null,
            "grid_template_rows": null,
            "height": null,
            "justify_content": null,
            "justify_items": null,
            "left": null,
            "margin": null,
            "max_height": null,
            "max_width": null,
            "min_height": null,
            "min_width": null,
            "object_fit": null,
            "object_position": null,
            "order": null,
            "overflow": null,
            "overflow_x": null,
            "overflow_y": null,
            "padding": null,
            "right": null,
            "top": null,
            "visibility": null,
            "width": null
          }
        },
        "361736b10d9e40e4a99acf854e453dc5": {
          "model_module": "@jupyter-widgets/controls",
          "model_name": "DescriptionStyleModel",
          "model_module_version": "1.5.0",
          "state": {
            "_model_module": "@jupyter-widgets/controls",
            "_model_module_version": "1.5.0",
            "_model_name": "DescriptionStyleModel",
            "_view_count": null,
            "_view_module": "@jupyter-widgets/base",
            "_view_module_version": "1.2.0",
            "_view_name": "StyleView",
            "description_width": ""
          }
        },
        "402a7d3aef34402b9609519b96a33c3c": {
          "model_module": "@jupyter-widgets/base",
          "model_name": "LayoutModel",
          "model_module_version": "1.2.0",
          "state": {
            "_model_module": "@jupyter-widgets/base",
            "_model_module_version": "1.2.0",
            "_model_name": "LayoutModel",
            "_view_count": null,
            "_view_module": "@jupyter-widgets/base",
            "_view_module_version": "1.2.0",
            "_view_name": "LayoutView",
            "align_content": null,
            "align_items": null,
            "align_self": null,
            "border": null,
            "bottom": null,
            "display": null,
            "flex": null,
            "flex_flow": null,
            "grid_area": null,
            "grid_auto_columns": null,
            "grid_auto_flow": null,
            "grid_auto_rows": null,
            "grid_column": null,
            "grid_gap": null,
            "grid_row": null,
            "grid_template_areas": null,
            "grid_template_columns": null,
            "grid_template_rows": null,
            "height": null,
            "justify_content": null,
            "justify_items": null,
            "left": null,
            "margin": null,
            "max_height": null,
            "max_width": null,
            "min_height": null,
            "min_width": null,
            "object_fit": null,
            "object_position": null,
            "order": null,
            "overflow": null,
            "overflow_x": null,
            "overflow_y": null,
            "padding": null,
            "right": null,
            "top": null,
            "visibility": null,
            "width": null
          }
        },
        "f0680b448725499ab23a053984b93f17": {
          "model_module": "@jupyter-widgets/controls",
          "model_name": "ProgressStyleModel",
          "model_module_version": "1.5.0",
          "state": {
            "_model_module": "@jupyter-widgets/controls",
            "_model_module_version": "1.5.0",
            "_model_name": "ProgressStyleModel",
            "_view_count": null,
            "_view_module": "@jupyter-widgets/base",
            "_view_module_version": "1.2.0",
            "_view_name": "StyleView",
            "bar_color": null,
            "description_width": ""
          }
        },
        "fb8ea4330eeb4bf888c75e90e18f0433": {
          "model_module": "@jupyter-widgets/base",
          "model_name": "LayoutModel",
          "model_module_version": "1.2.0",
          "state": {
            "_model_module": "@jupyter-widgets/base",
            "_model_module_version": "1.2.0",
            "_model_name": "LayoutModel",
            "_view_count": null,
            "_view_module": "@jupyter-widgets/base",
            "_view_module_version": "1.2.0",
            "_view_name": "LayoutView",
            "align_content": null,
            "align_items": null,
            "align_self": null,
            "border": null,
            "bottom": null,
            "display": null,
            "flex": null,
            "flex_flow": null,
            "grid_area": null,
            "grid_auto_columns": null,
            "grid_auto_flow": null,
            "grid_auto_rows": null,
            "grid_column": null,
            "grid_gap": null,
            "grid_row": null,
            "grid_template_areas": null,
            "grid_template_columns": null,
            "grid_template_rows": null,
            "height": null,
            "justify_content": null,
            "justify_items": null,
            "left": null,
            "margin": null,
            "max_height": null,
            "max_width": null,
            "min_height": null,
            "min_width": null,
            "object_fit": null,
            "object_position": null,
            "order": null,
            "overflow": null,
            "overflow_x": null,
            "overflow_y": null,
            "padding": null,
            "right": null,
            "top": null,
            "visibility": null,
            "width": null
          }
        },
        "0a0b9b113bf048d98fc56fb5ffca4c33": {
          "model_module": "@jupyter-widgets/controls",
          "model_name": "DescriptionStyleModel",
          "model_module_version": "1.5.0",
          "state": {
            "_model_module": "@jupyter-widgets/controls",
            "_model_module_version": "1.5.0",
            "_model_name": "DescriptionStyleModel",
            "_view_count": null,
            "_view_module": "@jupyter-widgets/base",
            "_view_module_version": "1.2.0",
            "_view_name": "StyleView",
            "description_width": ""
          }
        }
      }
    }
  },
  "cells": [
    {
      "cell_type": "markdown",
      "source": [
        "### 1. Install necessary libraries (if not installed)"
      ],
      "metadata": {
        "id": "pWcj5S6mhwbW"
      }
    },
    {
      "cell_type": "code",
      "source": [
        "!pip install datasets transformers biopython torch scikit-learn pandas matplotlib"
      ],
      "metadata": {
        "colab": {
          "base_uri": "https://localhost:8080/"
        },
        "id": "vNZBHbHy7JRB",
        "outputId": "f51dc768-f433-45e9-d286-718204d60c33"
      },
      "execution_count": 1,
      "outputs": [
        {
          "output_type": "stream",
          "name": "stdout",
          "text": [
            "Requirement already satisfied: datasets in /usr/local/lib/python3.10/dist-packages (3.2.0)\n",
            "Requirement already satisfied: transformers in /usr/local/lib/python3.10/dist-packages (4.46.3)\n",
            "Requirement already satisfied: biopython in /usr/local/lib/python3.10/dist-packages (1.84)\n",
            "Requirement already satisfied: torch in /usr/local/lib/python3.10/dist-packages (2.5.1+cu121)\n",
            "Requirement already satisfied: scikit-learn in /usr/local/lib/python3.10/dist-packages (1.5.2)\n",
            "Requirement already satisfied: pandas in /usr/local/lib/python3.10/dist-packages (2.2.2)\n",
            "Requirement already satisfied: matplotlib in /usr/local/lib/python3.10/dist-packages (3.8.0)\n",
            "Requirement already satisfied: filelock in /usr/local/lib/python3.10/dist-packages (from datasets) (3.16.1)\n",
            "Requirement already satisfied: numpy>=1.17 in /usr/local/lib/python3.10/dist-packages (from datasets) (1.26.4)\n",
            "Requirement already satisfied: pyarrow>=15.0.0 in /usr/local/lib/python3.10/dist-packages (from datasets) (17.0.0)\n",
            "Requirement already satisfied: dill<0.3.9,>=0.3.0 in /usr/local/lib/python3.10/dist-packages (from datasets) (0.3.8)\n",
            "Requirement already satisfied: requests>=2.32.2 in /usr/local/lib/python3.10/dist-packages (from datasets) (2.32.3)\n",
            "Requirement already satisfied: tqdm>=4.66.3 in /usr/local/lib/python3.10/dist-packages (from datasets) (4.66.6)\n",
            "Requirement already satisfied: xxhash in /usr/local/lib/python3.10/dist-packages (from datasets) (3.5.0)\n",
            "Requirement already satisfied: multiprocess<0.70.17 in /usr/local/lib/python3.10/dist-packages (from datasets) (0.70.16)\n",
            "Requirement already satisfied: fsspec<=2024.9.0,>=2023.1.0 in /usr/local/lib/python3.10/dist-packages (from fsspec[http]<=2024.9.0,>=2023.1.0->datasets) (2024.9.0)\n",
            "Requirement already satisfied: aiohttp in /usr/local/lib/python3.10/dist-packages (from datasets) (3.11.9)\n",
            "Requirement already satisfied: huggingface-hub>=0.23.0 in /usr/local/lib/python3.10/dist-packages (from datasets) (0.26.3)\n",
            "Requirement already satisfied: packaging in /usr/local/lib/python3.10/dist-packages (from datasets) (24.2)\n",
            "Requirement already satisfied: pyyaml>=5.1 in /usr/local/lib/python3.10/dist-packages (from datasets) (6.0.2)\n",
            "Requirement already satisfied: regex!=2019.12.17 in /usr/local/lib/python3.10/dist-packages (from transformers) (2024.9.11)\n",
            "Requirement already satisfied: tokenizers<0.21,>=0.20 in /usr/local/lib/python3.10/dist-packages (from transformers) (0.20.3)\n",
            "Requirement already satisfied: safetensors>=0.4.1 in /usr/local/lib/python3.10/dist-packages (from transformers) (0.4.5)\n",
            "Requirement already satisfied: typing-extensions>=4.8.0 in /usr/local/lib/python3.10/dist-packages (from torch) (4.12.2)\n",
            "Requirement already satisfied: networkx in /usr/local/lib/python3.10/dist-packages (from torch) (3.4.2)\n",
            "Requirement already satisfied: jinja2 in /usr/local/lib/python3.10/dist-packages (from torch) (3.1.4)\n",
            "Requirement already satisfied: sympy==1.13.1 in /usr/local/lib/python3.10/dist-packages (from torch) (1.13.1)\n",
            "Requirement already satisfied: mpmath<1.4,>=1.1.0 in /usr/local/lib/python3.10/dist-packages (from sympy==1.13.1->torch) (1.3.0)\n",
            "Requirement already satisfied: scipy>=1.6.0 in /usr/local/lib/python3.10/dist-packages (from scikit-learn) (1.13.1)\n",
            "Requirement already satisfied: joblib>=1.2.0 in /usr/local/lib/python3.10/dist-packages (from scikit-learn) (1.4.2)\n",
            "Requirement already satisfied: threadpoolctl>=3.1.0 in /usr/local/lib/python3.10/dist-packages (from scikit-learn) (3.5.0)\n",
            "Requirement already satisfied: python-dateutil>=2.8.2 in /usr/local/lib/python3.10/dist-packages (from pandas) (2.8.2)\n",
            "Requirement already satisfied: pytz>=2020.1 in /usr/local/lib/python3.10/dist-packages (from pandas) (2024.2)\n",
            "Requirement already satisfied: tzdata>=2022.7 in /usr/local/lib/python3.10/dist-packages (from pandas) (2024.2)\n",
            "Requirement already satisfied: contourpy>=1.0.1 in /usr/local/lib/python3.10/dist-packages (from matplotlib) (1.3.1)\n",
            "Requirement already satisfied: cycler>=0.10 in /usr/local/lib/python3.10/dist-packages (from matplotlib) (0.12.1)\n",
            "Requirement already satisfied: fonttools>=4.22.0 in /usr/local/lib/python3.10/dist-packages (from matplotlib) (4.55.1)\n",
            "Requirement already satisfied: kiwisolver>=1.0.1 in /usr/local/lib/python3.10/dist-packages (from matplotlib) (1.4.7)\n",
            "Requirement already satisfied: pillow>=6.2.0 in /usr/local/lib/python3.10/dist-packages (from matplotlib) (11.0.0)\n",
            "Requirement already satisfied: pyparsing>=2.3.1 in /usr/local/lib/python3.10/dist-packages (from matplotlib) (3.2.0)\n",
            "Requirement already satisfied: aiohappyeyeballs>=2.3.0 in /usr/local/lib/python3.10/dist-packages (from aiohttp->datasets) (2.4.4)\n",
            "Requirement already satisfied: aiosignal>=1.1.2 in /usr/local/lib/python3.10/dist-packages (from aiohttp->datasets) (1.3.1)\n",
            "Requirement already satisfied: async-timeout<6.0,>=4.0 in /usr/local/lib/python3.10/dist-packages (from aiohttp->datasets) (4.0.3)\n",
            "Requirement already satisfied: attrs>=17.3.0 in /usr/local/lib/python3.10/dist-packages (from aiohttp->datasets) (24.2.0)\n",
            "Requirement already satisfied: frozenlist>=1.1.1 in /usr/local/lib/python3.10/dist-packages (from aiohttp->datasets) (1.5.0)\n",
            "Requirement already satisfied: multidict<7.0,>=4.5 in /usr/local/lib/python3.10/dist-packages (from aiohttp->datasets) (6.1.0)\n",
            "Requirement already satisfied: propcache>=0.2.0 in /usr/local/lib/python3.10/dist-packages (from aiohttp->datasets) (0.2.1)\n",
            "Requirement already satisfied: yarl<2.0,>=1.17.0 in /usr/local/lib/python3.10/dist-packages (from aiohttp->datasets) (1.18.3)\n",
            "Requirement already satisfied: six>=1.5 in /usr/local/lib/python3.10/dist-packages (from python-dateutil>=2.8.2->pandas) (1.16.0)\n",
            "Requirement already satisfied: charset-normalizer<4,>=2 in /usr/local/lib/python3.10/dist-packages (from requests>=2.32.2->datasets) (3.4.0)\n",
            "Requirement already satisfied: idna<4,>=2.5 in /usr/local/lib/python3.10/dist-packages (from requests>=2.32.2->datasets) (3.10)\n",
            "Requirement already satisfied: urllib3<3,>=1.21.1 in /usr/local/lib/python3.10/dist-packages (from requests>=2.32.2->datasets) (2.2.3)\n",
            "Requirement already satisfied: certifi>=2017.4.17 in /usr/local/lib/python3.10/dist-packages (from requests>=2.32.2->datasets) (2024.8.30)\n",
            "Requirement already satisfied: MarkupSafe>=2.0 in /usr/local/lib/python3.10/dist-packages (from jinja2->torch) (3.0.2)\n"
          ]
        }
      ]
    },
    {
      "cell_type": "markdown",
      "source": [
        "### 1.1 Upload .soft file"
      ],
      "metadata": {
        "id": "tIW727PQhqdM"
      }
    },
    {
      "cell_type": "code",
      "source": [
        "import pandas as pd\n",
        "from google.colab import files\n",
        "\n",
        "print(\"Please upload your .soft file.\")\n",
        "uploaded = files.upload()\n",
        "\n",
        "for file_name in uploaded.keys():\n",
        "    file_path = file_name  # The uploaded file's name\n",
        "    print(f\"File {file_name} uploaded successfully.\")\n",
        "\n",
        "    # Load the .soft file\n",
        "    try:\n",
        "        # Read the .soft file\n",
        "        df = pd.read_csv(file_path, sep='\\t', comment='!', header=0)  # .soft files may have metadata marked with '!'\n",
        "\n",
        "        # Inspect the dataset\n",
        "        print(\"Dataset loaded successfully!\")\n",
        "        print(df.head())\n",
        "\n",
        "        # Handle missing values\n",
        "        df.fillna(\"N/A\", inplace=True)\n",
        "\n",
        "        # Filter rows\n",
        "        if 'GO:Function' in df.columns:\n",
        "            filtered_df = df[df['GO:Function'].str.contains(\"GTP binding\", na=False)]\n",
        "            print(\"Filtered dataset based on 'GO:Function' containing 'GTP binding':\")\n",
        "            print(filtered_df.head())\n",
        "\n",
        "        # Incorporate new columns in processing\n",
        "        if 'Platform_SEQUENCE' in df.columns:\n",
        "            df['Sequence_Length'] = df['Platform_SEQUENCE'].apply(len)\n",
        "\n",
        "        # Save processed dataset as CSV\n",
        "        processed_file_path = \"processed_dataset.csv\"\n",
        "        df.to_csv(processed_file_path, index=False)\n",
        "\n",
        "        print(f\"Processed dataset saved to {processed_file_path}\")\n",
        "\n",
        "    except Exception as e:\n",
        "        print(f\"Error processing the file: {e}\")"
      ],
      "metadata": {
        "colab": {
          "base_uri": "https://localhost:8080/",
          "height": 1000
        },
        "id": "lQdxlEHNhsV0",
        "outputId": "c8d657bb-8980-44d0-bf39-d3882d2252a4"
      },
      "execution_count": 2,
      "outputs": [
        {
          "output_type": "stream",
          "name": "stdout",
          "text": [
            "Please upload your .soft file.\n"
          ]
        },
        {
          "output_type": "display_data",
          "data": {
            "text/plain": [
              "<IPython.core.display.HTML object>"
            ],
            "text/html": [
              "\n",
              "     <input type=\"file\" id=\"files-4474c421-8a66-4680-a091-d5a22f66aa44\" name=\"files[]\" multiple disabled\n",
              "        style=\"border:none\" />\n",
              "     <output id=\"result-4474c421-8a66-4680-a091-d5a22f66aa44\">\n",
              "      Upload widget is only available when the cell has been executed in the\n",
              "      current browser session. Please rerun this cell to enable.\n",
              "      </output>\n",
              "      <script>// Copyright 2017 Google LLC\n",
              "//\n",
              "// Licensed under the Apache License, Version 2.0 (the \"License\");\n",
              "// you may not use this file except in compliance with the License.\n",
              "// You may obtain a copy of the License at\n",
              "//\n",
              "//      http://www.apache.org/licenses/LICENSE-2.0\n",
              "//\n",
              "// Unless required by applicable law or agreed to in writing, software\n",
              "// distributed under the License is distributed on an \"AS IS\" BASIS,\n",
              "// WITHOUT WARRANTIES OR CONDITIONS OF ANY KIND, either express or implied.\n",
              "// See the License for the specific language governing permissions and\n",
              "// limitations under the License.\n",
              "\n",
              "/**\n",
              " * @fileoverview Helpers for google.colab Python module.\n",
              " */\n",
              "(function(scope) {\n",
              "function span(text, styleAttributes = {}) {\n",
              "  const element = document.createElement('span');\n",
              "  element.textContent = text;\n",
              "  for (const key of Object.keys(styleAttributes)) {\n",
              "    element.style[key] = styleAttributes[key];\n",
              "  }\n",
              "  return element;\n",
              "}\n",
              "\n",
              "// Max number of bytes which will be uploaded at a time.\n",
              "const MAX_PAYLOAD_SIZE = 100 * 1024;\n",
              "\n",
              "function _uploadFiles(inputId, outputId) {\n",
              "  const steps = uploadFilesStep(inputId, outputId);\n",
              "  const outputElement = document.getElementById(outputId);\n",
              "  // Cache steps on the outputElement to make it available for the next call\n",
              "  // to uploadFilesContinue from Python.\n",
              "  outputElement.steps = steps;\n",
              "\n",
              "  return _uploadFilesContinue(outputId);\n",
              "}\n",
              "\n",
              "// This is roughly an async generator (not supported in the browser yet),\n",
              "// where there are multiple asynchronous steps and the Python side is going\n",
              "// to poll for completion of each step.\n",
              "// This uses a Promise to block the python side on completion of each step,\n",
              "// then passes the result of the previous step as the input to the next step.\n",
              "function _uploadFilesContinue(outputId) {\n",
              "  const outputElement = document.getElementById(outputId);\n",
              "  const steps = outputElement.steps;\n",
              "\n",
              "  const next = steps.next(outputElement.lastPromiseValue);\n",
              "  return Promise.resolve(next.value.promise).then((value) => {\n",
              "    // Cache the last promise value to make it available to the next\n",
              "    // step of the generator.\n",
              "    outputElement.lastPromiseValue = value;\n",
              "    return next.value.response;\n",
              "  });\n",
              "}\n",
              "\n",
              "/**\n",
              " * Generator function which is called between each async step of the upload\n",
              " * process.\n",
              " * @param {string} inputId Element ID of the input file picker element.\n",
              " * @param {string} outputId Element ID of the output display.\n",
              " * @return {!Iterable<!Object>} Iterable of next steps.\n",
              " */\n",
              "function* uploadFilesStep(inputId, outputId) {\n",
              "  const inputElement = document.getElementById(inputId);\n",
              "  inputElement.disabled = false;\n",
              "\n",
              "  const outputElement = document.getElementById(outputId);\n",
              "  outputElement.innerHTML = '';\n",
              "\n",
              "  const pickedPromise = new Promise((resolve) => {\n",
              "    inputElement.addEventListener('change', (e) => {\n",
              "      resolve(e.target.files);\n",
              "    });\n",
              "  });\n",
              "\n",
              "  const cancel = document.createElement('button');\n",
              "  inputElement.parentElement.appendChild(cancel);\n",
              "  cancel.textContent = 'Cancel upload';\n",
              "  const cancelPromise = new Promise((resolve) => {\n",
              "    cancel.onclick = () => {\n",
              "      resolve(null);\n",
              "    };\n",
              "  });\n",
              "\n",
              "  // Wait for the user to pick the files.\n",
              "  const files = yield {\n",
              "    promise: Promise.race([pickedPromise, cancelPromise]),\n",
              "    response: {\n",
              "      action: 'starting',\n",
              "    }\n",
              "  };\n",
              "\n",
              "  cancel.remove();\n",
              "\n",
              "  // Disable the input element since further picks are not allowed.\n",
              "  inputElement.disabled = true;\n",
              "\n",
              "  if (!files) {\n",
              "    return {\n",
              "      response: {\n",
              "        action: 'complete',\n",
              "      }\n",
              "    };\n",
              "  }\n",
              "\n",
              "  for (const file of files) {\n",
              "    const li = document.createElement('li');\n",
              "    li.append(span(file.name, {fontWeight: 'bold'}));\n",
              "    li.append(span(\n",
              "        `(${file.type || 'n/a'}) - ${file.size} bytes, ` +\n",
              "        `last modified: ${\n",
              "            file.lastModifiedDate ? file.lastModifiedDate.toLocaleDateString() :\n",
              "                                    'n/a'} - `));\n",
              "    const percent = span('0% done');\n",
              "    li.appendChild(percent);\n",
              "\n",
              "    outputElement.appendChild(li);\n",
              "\n",
              "    const fileDataPromise = new Promise((resolve) => {\n",
              "      const reader = new FileReader();\n",
              "      reader.onload = (e) => {\n",
              "        resolve(e.target.result);\n",
              "      };\n",
              "      reader.readAsArrayBuffer(file);\n",
              "    });\n",
              "    // Wait for the data to be ready.\n",
              "    let fileData = yield {\n",
              "      promise: fileDataPromise,\n",
              "      response: {\n",
              "        action: 'continue',\n",
              "      }\n",
              "    };\n",
              "\n",
              "    // Use a chunked sending to avoid message size limits. See b/62115660.\n",
              "    let position = 0;\n",
              "    do {\n",
              "      const length = Math.min(fileData.byteLength - position, MAX_PAYLOAD_SIZE);\n",
              "      const chunk = new Uint8Array(fileData, position, length);\n",
              "      position += length;\n",
              "\n",
              "      const base64 = btoa(String.fromCharCode.apply(null, chunk));\n",
              "      yield {\n",
              "        response: {\n",
              "          action: 'append',\n",
              "          file: file.name,\n",
              "          data: base64,\n",
              "        },\n",
              "      };\n",
              "\n",
              "      let percentDone = fileData.byteLength === 0 ?\n",
              "          100 :\n",
              "          Math.round((position / fileData.byteLength) * 100);\n",
              "      percent.textContent = `${percentDone}% done`;\n",
              "\n",
              "    } while (position < fileData.byteLength);\n",
              "  }\n",
              "\n",
              "  // All done.\n",
              "  yield {\n",
              "    response: {\n",
              "      action: 'complete',\n",
              "    }\n",
              "  };\n",
              "}\n",
              "\n",
              "scope.google = scope.google || {};\n",
              "scope.google.colab = scope.google.colab || {};\n",
              "scope.google.colab._files = {\n",
              "  _uploadFiles,\n",
              "  _uploadFilesContinue,\n",
              "};\n",
              "})(self);\n",
              "</script> "
            ]
          },
          "metadata": {}
        },
        {
          "output_type": "stream",
          "name": "stdout",
          "text": [
            "Saving databank.soft to databank (1).soft\n",
            "File databank (1).soft uploaded successfully.\n",
            "Dataset loaded successfully!\n",
            "         ID_REF    IDENTIFIER  GSM1684096  GSM1684098  GSM1684100  GSM1684102  \\\n",
            "0  ILMN_1343048  ILMN_1343048         NaN         NaN         NaN         NaN   \n",
            "1  ILMN_1343049  ILMN_1343049         NaN         NaN         NaN         NaN   \n",
            "2  ILMN_1343050  ILMN_1343050         NaN         NaN         NaN         NaN   \n",
            "3  ILMN_1343052  ILMN_1343052         NaN         NaN         NaN         NaN   \n",
            "4  ILMN_1343059  ILMN_1343059         NaN         NaN         NaN         NaN   \n",
            "\n",
            "   GSM1684104  GSM1684095  GSM1684097  GSM1684099  ...  Platform_SPOTID  \\\n",
            "0         NaN         NaN         NaN         NaN  ...              NaN   \n",
            "1         NaN         NaN         NaN         NaN  ...              NaN   \n",
            "2         NaN         NaN         NaN         NaN  ...              NaN   \n",
            "3         NaN         NaN         NaN         NaN  ...              NaN   \n",
            "4         NaN         NaN         NaN         NaN  ...              NaN   \n",
            "\n",
            "   Chromosome location Chromosome annotation GO:Function  GO:Process  \\\n",
            "0                  NaN                   NaN         NaN         NaN   \n",
            "1                  NaN                   NaN         NaN         NaN   \n",
            "2                  NaN                   NaN         NaN         NaN   \n",
            "3                  NaN                   NaN         NaN         NaN   \n",
            "4                  NaN                   NaN         NaN         NaN   \n",
            "\n",
            "   GO:Component  GO:Function ID  GO:Process ID GO:Component ID  \\\n",
            "0           NaN             NaN            NaN             NaN   \n",
            "1           NaN             NaN            NaN             NaN   \n",
            "2           NaN             NaN            NaN             NaN   \n",
            "3           NaN             NaN            NaN             NaN   \n",
            "4           NaN             NaN            NaN             NaN   \n",
            "\n",
            "                                   Platform_SEQUENCE  \n",
            "0  GAATAAAGAACAATCTGCTGATGATCCCTCCGTGGATCTGATTCGT...  \n",
            "1  CCATGTGATACGAGGGCGCGTAGTTTGCATTATCGTTTTTATCGTT...  \n",
            "2  CCGACAGATGTATGTAAGGCCAACGTGCTCAAATCTTCATACAGAA...  \n",
            "3  TCTGTCACTGTCAGGAAAGTGGTAAAACTGCAACTCAATTACTGCA...  \n",
            "4  CTTGTGCCTGAGCTGTCAAAAGTAGAGCACGTCGCCGAGATGAAGG...  \n",
            "\n",
            "[5 rows x 33 columns]\n",
            "Filtered dataset based on 'GO:Function' containing 'GTP binding':\n",
            "         ID_REF IDENTIFIER GSM1684096 GSM1684098 GSM1684100 GSM1684102  \\\n",
            "9  ILMN_1343291     EEF1A1    22303.3    24776.1    26775.3    25980.2   \n",
            "\n",
            "  GSM1684104 GSM1684095 GSM1684097 GSM1684099  ... Platform_SPOTID  \\\n",
            "9    26775.3    23599.3    25980.2    24776.1  ...             N/A   \n",
            "\n",
            "  Chromosome location                              Chromosome annotation  \\\n",
            "9              6q14.1  Chromosome 6, NC_000006.12 (73515750..73521032...   \n",
            "\n",
            "                                         GO:Function  \\\n",
            "9  GTP binding///GTPase activity///poly(A) RNA bi...   \n",
            "\n",
            "                                          GO:Process  \\\n",
            "9  cellular response to epidermal growth factor s...   \n",
            "\n",
            "                                        GO:Component  \\\n",
            "9  cortical actin cytoskeleton///cytoplasm///cyto...   \n",
            "\n",
            "                                      GO:Function ID  \\\n",
            "9  GO:0005525///GO:0003924///GO:0044822///GO:0005...   \n",
            "\n",
            "                                       GO:Process ID  \\\n",
            "9  GO:0071364///GO:1904714///GO:0006355///GO:0006...   \n",
            "\n",
            "                                     GO:Component ID  \\\n",
            "9  GO:0030864///GO:0005737///GO:0005737///GO:0005...   \n",
            "\n",
            "                                   Platform_SEQUENCE  \n",
            "9  TGTGTTGAGAGCTTCTCAGACTATCCACCTTTGGGTCGCTTTGCTG...  \n",
            "\n",
            "[1 rows x 33 columns]\n",
            "Processed dataset saved to processed_dataset.csv\n"
          ]
        },
        {
          "output_type": "stream",
          "name": "stderr",
          "text": [
            "<ipython-input-2-d27c30337077>:21: FutureWarning: Setting an item of incompatible dtype is deprecated and will raise an error in a future version of pandas. Value 'N/A' has dtype incompatible with float64, please explicitly cast to a compatible dtype first.\n",
            "  df.fillna(\"N/A\", inplace=True)\n"
          ]
        }
      ]
    },
    {
      "cell_type": "markdown",
      "source": [
        "### 1.3 Import libraries"
      ],
      "metadata": {
        "id": "reGwHcl3ijjt"
      }
    },
    {
      "cell_type": "code",
      "source": [
        "from datasets import Dataset\n",
        "from transformers import AutoTokenizer, AutoModelForSequenceClassification, BertTokenizer, BertForSequenceClassification,  Trainer, TrainingArguments\n",
        "import torch\n",
        "import pandas as pd\n",
        "import numpy as np\n",
        "from sklearn.metrics import mean_squared_error, mean_absolute_error\n",
        "import matplotlib.pyplot as plt"
      ],
      "metadata": {
        "id": "j5QwcrOrBa6m"
      },
      "execution_count": 3,
      "outputs": []
    },
    {
      "cell_type": "markdown",
      "source": [
        "### 1.4 Load the processed dataset"
      ],
      "metadata": {
        "id": "ssbS3Xb1itg-"
      }
    },
    {
      "cell_type": "code",
      "source": [
        "file_path = \"processed_dataset.csv\"\n",
        "df = pd.read_csv(file_path, sep=',')"
      ],
      "metadata": {
        "id": "ck3SubwJBdQI"
      },
      "execution_count": 4,
      "outputs": []
    },
    {
      "cell_type": "code",
      "source": [
        "print(df.columns)"
      ],
      "metadata": {
        "colab": {
          "base_uri": "https://localhost:8080/"
        },
        "id": "IH7-YnNFoH8k",
        "outputId": "5b8f5e65-c293-462e-d151-2731c12b4f6a"
      },
      "execution_count": 6,
      "outputs": [
        {
          "output_type": "stream",
          "name": "stdout",
          "text": [
            "Index(['ID_REF', 'IDENTIFIER', 'GSM1684096', 'GSM1684098', 'GSM1684100',\n",
            "       'GSM1684102', 'GSM1684104', 'GSM1684095', 'GSM1684097', 'GSM1684099',\n",
            "       'GSM1684101', 'GSM1684103', 'Gene title', 'Gene symbol', 'Gene ID',\n",
            "       'UniGene title', 'UniGene symbol', 'UniGene ID', 'Nucleotide Title',\n",
            "       'GI', 'GenBank Accession', 'Platform_CLONEID', 'Platform_ORF',\n",
            "       'Platform_SPOTID', 'Chromosome location', 'Chromosome annotation',\n",
            "       'GO:Function', 'GO:Process', 'GO:Component', 'GO:Function ID',\n",
            "       'GO:Process ID', 'GO:Component ID', 'Platform_SEQUENCE',\n",
            "       'Sequence_Length'],\n",
            "      dtype='object')\n"
          ]
        }
      ]
    },
    {
      "cell_type": "code",
      "source": [
        "print(df[[\"GSM1684096\", \"GSM1684098\", \"GSM1684100\"]].info())\n",
        "print(df[[\"GSM1684096\", \"GSM1684098\", \"GSM1684100\"]].head(10))"
      ],
      "metadata": {
        "colab": {
          "base_uri": "https://localhost:8080/"
        },
        "id": "I_pH2ZzropWu",
        "outputId": "43e2cb6b-128d-43fa-b91f-3022bf0a4073"
      },
      "execution_count": 7,
      "outputs": [
        {
          "output_type": "stream",
          "name": "stdout",
          "text": [
            "<class 'pandas.core.frame.DataFrame'>\n",
            "RangeIndex: 199 entries, 0 to 198\n",
            "Data columns (total 3 columns):\n",
            " #   Column      Non-Null Count  Dtype  \n",
            "---  ------      --------------  -----  \n",
            " 0   GSM1684096  2 non-null      float64\n",
            " 1   GSM1684098  2 non-null      float64\n",
            " 2   GSM1684100  2 non-null      float64\n",
            "dtypes: float64(3)\n",
            "memory usage: 4.8 KB\n",
            "None\n",
            "   GSM1684096  GSM1684098  GSM1684100\n",
            "0         NaN         NaN         NaN\n",
            "1         NaN         NaN         NaN\n",
            "2         NaN         NaN         NaN\n",
            "3         NaN         NaN         NaN\n",
            "4         NaN         NaN         NaN\n",
            "5         NaN         NaN         NaN\n",
            "6         NaN         NaN         NaN\n",
            "7         NaN         NaN         NaN\n",
            "8         NaN         NaN         NaN\n",
            "9     22303.3     24776.1     26775.3\n"
          ]
        }
      ]
    },
    {
      "cell_type": "markdown",
      "source": [
        "### 2. Clean and preprocess the data"
      ],
      "metadata": {
        "id": "JUey6nQVi5mA"
      }
    },
    {
      "cell_type": "code",
      "source": [
        "expression_columns = [\"GSM1684096\", \"GSM1684098\", \"GSM1684100\"]\n",
        "df = df.dropna(subset=expression_columns, how='all')  # Drop rows where all are NaN\n",
        "df[\"expression\"] = df[\"GSM1684096\"]\n",
        "df[\"expression\"] = pd.to_numeric(df[\"expression\"], errors=\"coerce\")\n",
        "print(df[\"expression\"].describe())\n",
        "df = df.dropna(subset=[\"expression\"])"
      ],
      "metadata": {
        "colab": {
          "base_uri": "https://localhost:8080/"
        },
        "id": "Fon4qHfOgK8s",
        "outputId": "fd9256ce-d894-40d3-d8da-423e0f616fc8"
      },
      "execution_count": 9,
      "outputs": [
        {
          "output_type": "stream",
          "name": "stdout",
          "text": [
            "count        2.000000\n",
            "mean     15017.975000\n",
            "std      10303.005421\n",
            "min       7732.650000\n",
            "25%      11375.312500\n",
            "50%      15017.975000\n",
            "75%      18660.637500\n",
            "max      22303.300000\n",
            "Name: expression, dtype: float64\n"
          ]
        }
      ]
    },
    {
      "cell_type": "code",
      "source": [
        "df[\"sequence\"] = df[\"Platform_SEQUENCE\"]\n",
        "print(df[\"sequence\"].head())\n",
        "print(df[\"sequence\"].dtype)"
      ],
      "metadata": {
        "colab": {
          "base_uri": "https://localhost:8080/"
        },
        "id": "6LcdRELzpmCH",
        "outputId": "6388e3ea-7375-4c2e-cbdb-7d31b19ed240"
      },
      "execution_count": 15,
      "outputs": [
        {
          "output_type": "stream",
          "name": "stdout",
          "text": [
            "9     TGTGTTGAGAGCTTCTCAGACTATCCACCTTTGGGTCGCTTTGCTG...\n",
            "10    CTTCAACAGCGACACCCACTCCTCCACCTTTGACGCTGGGGCTGGC...\n",
            "Name: sequence, dtype: object\n",
            "object\n"
          ]
        }
      ]
    },
    {
      "cell_type": "markdown",
      "source": [
        "### 2.1 Inspect the dataset"
      ],
      "metadata": {
        "id": "m4v3VOLljMZx"
      }
    },
    {
      "cell_type": "code",
      "source": [
        "print(df.head())\n",
        "print(df[\"expression\"].dtype)  # dtype is float"
      ],
      "metadata": {
        "colab": {
          "base_uri": "https://localhost:8080/"
        },
        "id": "2bos5jByBzIp",
        "outputId": "03d1607d-31bd-4e97-dbc8-3440d39b91b4"
      },
      "execution_count": 16,
      "outputs": [
        {
          "output_type": "stream",
          "name": "stdout",
          "text": [
            "          ID_REF IDENTIFIER  GSM1684096  GSM1684098  GSM1684100  GSM1684102  \\\n",
            "9   ILMN_1343291     EEF1A1    22303.30    24776.10    26775.30    25980.20   \n",
            "10  ILMN_1343295      GAPDH     7732.65     5296.75     6430.16     4801.03   \n",
            "\n",
            "    GSM1684104  GSM1684095  GSM1684097  GSM1684099  ...  \\\n",
            "9     26775.30    23599.30    25980.20    24776.10  ...   \n",
            "10     5654.94     6405.33     6553.48     7699.22  ...   \n",
            "\n",
            "                                          GO:Function  \\\n",
            "9   GTP binding///GTPase activity///poly(A) RNA bi...   \n",
            "10  NAD binding///NADP binding///glyceraldehyde-3-...   \n",
            "\n",
            "                                           GO:Process  \\\n",
            "9   cellular response to epidermal growth factor s...   \n",
            "10  canonical glycolysis///cellular response to in...   \n",
            "\n",
            "                                         GO:Component  \\\n",
            "9   cortical actin cytoskeleton///cytoplasm///cyto...   \n",
            "10  GAIT complex///cytoplasm///cytoplasm///cytosol...   \n",
            "\n",
            "                                       GO:Function ID  \\\n",
            "9   GO:0005525///GO:0003924///GO:0044822///GO:0005...   \n",
            "10  GO:0051287///GO:0050661///GO:0004365///GO:0004...   \n",
            "\n",
            "                                        GO:Process ID  \\\n",
            "9   GO:0071364///GO:1904714///GO:0006355///GO:0006...   \n",
            "10  GO:0061621///GO:0071346///GO:0006094///GO:0000...   \n",
            "\n",
            "                                      GO:Component ID  \\\n",
            "9   GO:0030864///GO:0005737///GO:0005737///GO:0005...   \n",
            "10  GO:0097452///GO:0005737///GO:0005737///GO:0005...   \n",
            "\n",
            "                                    Platform_SEQUENCE  Sequence_Length  \\\n",
            "9   TGTGTTGAGAGCTTCTCAGACTATCCACCTTTGGGTCGCTTTGCTG...               50   \n",
            "10  CTTCAACAGCGACACCCACTCCTCCACCTTTGACGCTGGGGCTGGC...               50   \n",
            "\n",
            "   expression                                           sequence  \n",
            "9    22303.30  TGTGTTGAGAGCTTCTCAGACTATCCACCTTTGGGTCGCTTTGCTG...  \n",
            "10    7732.65  CTTCAACAGCGACACCCACTCCTCCACCTTTGACGCTGGGGCTGGC...  \n",
            "\n",
            "[2 rows x 36 columns]\n",
            "float64\n"
          ]
        }
      ]
    },
    {
      "cell_type": "markdown",
      "source": [
        "### 3. Covert DataFrame to a Hugging Face Dataset"
      ],
      "metadata": {
        "id": "fAnatWP2jdmn"
      }
    },
    {
      "cell_type": "code",
      "source": [
        "dataset = Dataset.from_pandas(df)"
      ],
      "metadata": {
        "id": "m3GnJB4pgUH0"
      },
      "execution_count": 17,
      "outputs": []
    },
    {
      "cell_type": "code",
      "source": [
        "print(df.dtypes)"
      ],
      "metadata": {
        "colab": {
          "base_uri": "https://localhost:8080/"
        },
        "id": "OgZC3VqRCv6F",
        "outputId": "ae58b626-7c69-4ee1-9b24-193c11e64898"
      },
      "execution_count": 18,
      "outputs": [
        {
          "output_type": "stream",
          "name": "stdout",
          "text": [
            "ID_REF                    object\n",
            "IDENTIFIER                object\n",
            "GSM1684096               float64\n",
            "GSM1684098               float64\n",
            "GSM1684100               float64\n",
            "GSM1684102               float64\n",
            "GSM1684104               float64\n",
            "GSM1684095               float64\n",
            "GSM1684097               float64\n",
            "GSM1684099               float64\n",
            "GSM1684101               float64\n",
            "GSM1684103               float64\n",
            "Gene title                object\n",
            "Gene symbol               object\n",
            "Gene ID                  float64\n",
            "UniGene title            float64\n",
            "UniGene symbol           float64\n",
            "UniGene ID               float64\n",
            "Nucleotide Title          object\n",
            "GI                       float64\n",
            "GenBank Accession         object\n",
            "Platform_CLONEID         float64\n",
            "Platform_ORF             float64\n",
            "Platform_SPOTID          float64\n",
            "Chromosome location       object\n",
            "Chromosome annotation     object\n",
            "GO:Function               object\n",
            "GO:Process                object\n",
            "GO:Component              object\n",
            "GO:Function ID            object\n",
            "GO:Process ID             object\n",
            "GO:Component ID           object\n",
            "Platform_SEQUENCE         object\n",
            "Sequence_Length            int64\n",
            "expression               float64\n",
            "sequence                  object\n",
            "dtype: object\n"
          ]
        }
      ]
    },
    {
      "cell_type": "markdown",
      "source": [
        "### 4. Initialize the tokenizer"
      ],
      "metadata": {
        "id": "mF0G7RBVjxwn"
      }
    },
    {
      "cell_type": "code",
      "source": [
        "tokenizer = BertTokenizer.from_pretrained('bert-base-uncased')"
      ],
      "metadata": {
        "id": "WAfExX41DgY0"
      },
      "execution_count": 19,
      "outputs": []
    },
    {
      "cell_type": "markdown",
      "source": [
        "### 4.1 Tokenize the sequences"
      ],
      "metadata": {
        "id": "ZVUitunrj6Uc"
      }
    },
    {
      "cell_type": "code",
      "source": [
        "def tokenize_function(example):\n",
        "    tokenized_output = tokenizer(\n",
        "        example['sequence'],\n",
        "        padding=\"max_length\",\n",
        "        truncation=True,\n",
        "        max_length=512,\n",
        "        return_tensors=\"pt\"\n",
        "    )\n",
        "    return {\n",
        "        \"input_ids\": tokenized_output[\"input_ids\"][0].tolist(),\n",
        "        \"attention_mask\": tokenized_output[\"attention_mask\"][0].tolist(),\n",
        "        \"labels\": float(example[\"expression\"]),  # labels are floats\n",
        "    }\n",
        "\n",
        "dataset = dataset.map(tokenize_function)"
      ],
      "metadata": {
        "colab": {
          "base_uri": "https://localhost:8080/",
          "height": 49,
          "referenced_widgets": [
            "7274a56280464c74814124b3c392a02d",
            "b360337378464a7cbd3353f7ed403194",
            "bdd22edf3c804f59b0dc825e9ca4c0c2",
            "37b6ad44c59b408894770388c5efa87b",
            "b60f1073ae474e17a197a7d572e3c250",
            "5c98b8659d044e1ca4edb5f3bc2278ac",
            "eb3c17be0b414020a6143576dea27d33",
            "ac0a00eaa1884477806e632c2e3d14ba",
            "c1b05302d2224b098a156e200155b0f4",
            "1cb759381d9d4b43983de898c9830a72",
            "69dc3c1ce3ae456484aa8c1554d91102"
          ]
        },
        "id": "74hme6unD7vm",
        "outputId": "baca345e-68b7-46da-b754-13bd0f06e5ca"
      },
      "execution_count": 20,
      "outputs": [
        {
          "output_type": "display_data",
          "data": {
            "text/plain": [
              "Map:   0%|          | 0/2 [00:00<?, ? examples/s]"
            ],
            "application/vnd.jupyter.widget-view+json": {
              "version_major": 2,
              "version_minor": 0,
              "model_id": "7274a56280464c74814124b3c392a02d"
            }
          },
          "metadata": {}
        }
      ]
    },
    {
      "cell_type": "markdown",
      "source": [
        "### 4.2 Verify"
      ],
      "metadata": {
        "id": "bs9Qq5oGkEsE"
      }
    },
    {
      "cell_type": "code",
      "source": [
        "print(dataset[0])"
      ],
      "metadata": {
        "colab": {
          "base_uri": "https://localhost:8080/"
        },
        "id": "VoDfGCzggsO8",
        "outputId": "be7aed0b-acc6-4c32-b7bd-8605bae7445d"
      },
      "execution_count": 21,
      "outputs": [
        {
          "output_type": "stream",
          "name": "stdout",
          "text": [
            "{'ID_REF': 'ILMN_1343291', 'IDENTIFIER': 'EEF1A1', 'GSM1684096': 22303.3, 'GSM1684098': 24776.1, 'GSM1684100': 26775.3, 'GSM1684102': 25980.2, 'GSM1684104': 26775.3, 'GSM1684095': 23599.3, 'GSM1684097': 25980.2, 'GSM1684099': 24776.1, 'GSM1684101': 25980.2, 'GSM1684103': 23599.3, 'Gene title': 'eukaryotic translation elongation factor 1 alpha 1', 'Gene symbol': 'EEF1A1', 'Gene ID': 1915.0, 'UniGene title': None, 'UniGene symbol': None, 'UniGene ID': None, 'Nucleotide Title': 'Homo sapiens eukaryotic translation elongation factor 1 alpha 1 (EEF1A1), mRNA', 'GI': 83367078.0, 'GenBank Accession': 'NM_001402', 'Platform_CLONEID': None, 'Platform_ORF': None, 'Platform_SPOTID': None, 'Chromosome location': '6q14.1', 'Chromosome annotation': 'Chromosome 6, NC_000006.12 (73515750..73521032, complement)', 'GO:Function': 'GTP binding///GTPase activity///poly(A) RNA binding///protein binding///protein kinase binding///tRNA binding///translation elongation factor activity', 'GO:Process': 'cellular response to epidermal growth factor stimulus///regulation of chaperone-mediated autophagy///regulation of transcription, DNA-templated///transcription, DNA-templated///translational elongation', 'GO:Component': 'cortical actin cytoskeleton///cytoplasm///cytoplasm///cytoplasm///cytoplasmic side of lysosomal membrane///cytosol///cytosol///eukaryotic translation elongation factor 1 complex///extracellular exosome///extracellular space///membrane///nucleolus///nucleus///ruffle membrane', 'GO:Function ID': 'GO:0005525///GO:0003924///GO:0044822///GO:0005515///GO:0019901///GO:0000049///GO:0003746', 'GO:Process ID': 'GO:0071364///GO:1904714///GO:0006355///GO:0006351///GO:0006414', 'GO:Component ID': 'GO:0030864///GO:0005737///GO:0005737///GO:0005737///GO:0098574///GO:0005829///GO:0005829///GO:0005853///GO:0070062///GO:0005615///GO:0016020///GO:0005730///GO:0005634///GO:0032587', 'Platform_SEQUENCE': 'TGTGTTGAGAGCTTCTCAGACTATCCACCTTTGGGTCGCTTTGCTGTTCG', 'Sequence_Length': 50, 'expression': 22303.3, 'sequence': 'TGTGTTGAGAGCTTCTCAGACTATCCACCTTTGGGTCGCTTTGCTGTTCG', '__index_level_0__': 9, 'input_ids': [101, 1056, 13512, 13512, 2102, 3654, 3654, 18195, 4779, 6593, 3540, 3654, 25572, 13535, 3540, 9468, 4779, 2102, 13871, 13512, 2278, 18195, 4779, 2102, 18195, 2102, 13512, 13535, 2290, 102, 0, 0, 0, 0, 0, 0, 0, 0, 0, 0, 0, 0, 0, 0, 0, 0, 0, 0, 0, 0, 0, 0, 0, 0, 0, 0, 0, 0, 0, 0, 0, 0, 0, 0, 0, 0, 0, 0, 0, 0, 0, 0, 0, 0, 0, 0, 0, 0, 0, 0, 0, 0, 0, 0, 0, 0, 0, 0, 0, 0, 0, 0, 0, 0, 0, 0, 0, 0, 0, 0, 0, 0, 0, 0, 0, 0, 0, 0, 0, 0, 0, 0, 0, 0, 0, 0, 0, 0, 0, 0, 0, 0, 0, 0, 0, 0, 0, 0, 0, 0, 0, 0, 0, 0, 0, 0, 0, 0, 0, 0, 0, 0, 0, 0, 0, 0, 0, 0, 0, 0, 0, 0, 0, 0, 0, 0, 0, 0, 0, 0, 0, 0, 0, 0, 0, 0, 0, 0, 0, 0, 0, 0, 0, 0, 0, 0, 0, 0, 0, 0, 0, 0, 0, 0, 0, 0, 0, 0, 0, 0, 0, 0, 0, 0, 0, 0, 0, 0, 0, 0, 0, 0, 0, 0, 0, 0, 0, 0, 0, 0, 0, 0, 0, 0, 0, 0, 0, 0, 0, 0, 0, 0, 0, 0, 0, 0, 0, 0, 0, 0, 0, 0, 0, 0, 0, 0, 0, 0, 0, 0, 0, 0, 0, 0, 0, 0, 0, 0, 0, 0, 0, 0, 0, 0, 0, 0, 0, 0, 0, 0, 0, 0, 0, 0, 0, 0, 0, 0, 0, 0, 0, 0, 0, 0, 0, 0, 0, 0, 0, 0, 0, 0, 0, 0, 0, 0, 0, 0, 0, 0, 0, 0, 0, 0, 0, 0, 0, 0, 0, 0, 0, 0, 0, 0, 0, 0, 0, 0, 0, 0, 0, 0, 0, 0, 0, 0, 0, 0, 0, 0, 0, 0, 0, 0, 0, 0, 0, 0, 0, 0, 0, 0, 0, 0, 0, 0, 0, 0, 0, 0, 0, 0, 0, 0, 0, 0, 0, 0, 0, 0, 0, 0, 0, 0, 0, 0, 0, 0, 0, 0, 0, 0, 0, 0, 0, 0, 0, 0, 0, 0, 0, 0, 0, 0, 0, 0, 0, 0, 0, 0, 0, 0, 0, 0, 0, 0, 0, 0, 0, 0, 0, 0, 0, 0, 0, 0, 0, 0, 0, 0, 0, 0, 0, 0, 0, 0, 0, 0, 0, 0, 0, 0, 0, 0, 0, 0, 0, 0, 0, 0, 0, 0, 0, 0, 0, 0, 0, 0, 0, 0, 0, 0, 0, 0, 0, 0, 0, 0, 0, 0, 0, 0, 0, 0, 0, 0, 0, 0, 0, 0, 0, 0, 0, 0, 0, 0, 0, 0, 0, 0, 0, 0, 0, 0, 0, 0, 0, 0, 0, 0, 0, 0, 0, 0, 0, 0, 0, 0, 0, 0, 0, 0, 0, 0, 0, 0, 0, 0, 0, 0, 0, 0, 0, 0, 0, 0, 0, 0, 0, 0, 0, 0, 0, 0, 0, 0, 0, 0, 0, 0, 0, 0], 'attention_mask': [1, 1, 1, 1, 1, 1, 1, 1, 1, 1, 1, 1, 1, 1, 1, 1, 1, 1, 1, 1, 1, 1, 1, 1, 1, 1, 1, 1, 1, 1, 0, 0, 0, 0, 0, 0, 0, 0, 0, 0, 0, 0, 0, 0, 0, 0, 0, 0, 0, 0, 0, 0, 0, 0, 0, 0, 0, 0, 0, 0, 0, 0, 0, 0, 0, 0, 0, 0, 0, 0, 0, 0, 0, 0, 0, 0, 0, 0, 0, 0, 0, 0, 0, 0, 0, 0, 0, 0, 0, 0, 0, 0, 0, 0, 0, 0, 0, 0, 0, 0, 0, 0, 0, 0, 0, 0, 0, 0, 0, 0, 0, 0, 0, 0, 0, 0, 0, 0, 0, 0, 0, 0, 0, 0, 0, 0, 0, 0, 0, 0, 0, 0, 0, 0, 0, 0, 0, 0, 0, 0, 0, 0, 0, 0, 0, 0, 0, 0, 0, 0, 0, 0, 0, 0, 0, 0, 0, 0, 0, 0, 0, 0, 0, 0, 0, 0, 0, 0, 0, 0, 0, 0, 0, 0, 0, 0, 0, 0, 0, 0, 0, 0, 0, 0, 0, 0, 0, 0, 0, 0, 0, 0, 0, 0, 0, 0, 0, 0, 0, 0, 0, 0, 0, 0, 0, 0, 0, 0, 0, 0, 0, 0, 0, 0, 0, 0, 0, 0, 0, 0, 0, 0, 0, 0, 0, 0, 0, 0, 0, 0, 0, 0, 0, 0, 0, 0, 0, 0, 0, 0, 0, 0, 0, 0, 0, 0, 0, 0, 0, 0, 0, 0, 0, 0, 0, 0, 0, 0, 0, 0, 0, 0, 0, 0, 0, 0, 0, 0, 0, 0, 0, 0, 0, 0, 0, 0, 0, 0, 0, 0, 0, 0, 0, 0, 0, 0, 0, 0, 0, 0, 0, 0, 0, 0, 0, 0, 0, 0, 0, 0, 0, 0, 0, 0, 0, 0, 0, 0, 0, 0, 0, 0, 0, 0, 0, 0, 0, 0, 0, 0, 0, 0, 0, 0, 0, 0, 0, 0, 0, 0, 0, 0, 0, 0, 0, 0, 0, 0, 0, 0, 0, 0, 0, 0, 0, 0, 0, 0, 0, 0, 0, 0, 0, 0, 0, 0, 0, 0, 0, 0, 0, 0, 0, 0, 0, 0, 0, 0, 0, 0, 0, 0, 0, 0, 0, 0, 0, 0, 0, 0, 0, 0, 0, 0, 0, 0, 0, 0, 0, 0, 0, 0, 0, 0, 0, 0, 0, 0, 0, 0, 0, 0, 0, 0, 0, 0, 0, 0, 0, 0, 0, 0, 0, 0, 0, 0, 0, 0, 0, 0, 0, 0, 0, 0, 0, 0, 0, 0, 0, 0, 0, 0, 0, 0, 0, 0, 0, 0, 0, 0, 0, 0, 0, 0, 0, 0, 0, 0, 0, 0, 0, 0, 0, 0, 0, 0, 0, 0, 0, 0, 0, 0, 0, 0, 0, 0, 0, 0, 0, 0, 0, 0, 0, 0, 0, 0, 0, 0, 0, 0, 0, 0, 0, 0, 0, 0, 0, 0, 0, 0, 0, 0, 0, 0, 0, 0, 0, 0, 0, 0, 0, 0, 0, 0, 0, 0, 0, 0, 0, 0, 0, 0], 'labels': 22303.3}\n"
          ]
        }
      ]
    },
    {
      "cell_type": "markdown",
      "source": [
        "### 5. Split into train and eval datasets (80-20 split)"
      ],
      "metadata": {
        "id": "fTfIKIY_kSew"
      }
    },
    {
      "cell_type": "code",
      "source": [
        "train_dataset = dataset.shuffle(seed=42).select([i for i in range(int(0.8 * len(dataset)))])\n",
        "eval_dataset = dataset.shuffle(seed=42).select([i for i in range(int(0.8 * len(dataset)), len(dataset))])"
      ],
      "metadata": {
        "id": "2LjiS_p_eNGg"
      },
      "execution_count": 22,
      "outputs": []
    },
    {
      "cell_type": "markdown",
      "source": [
        "### 6. Load the pre-trained BERT model for regression"
      ],
      "metadata": {
        "id": "IgG86U26kYv_"
      }
    },
    {
      "cell_type": "code",
      "source": [
        "model = BertForSequenceClassification.from_pretrained('bert-base-uncased', num_labels=1)"
      ],
      "metadata": {
        "colab": {
          "base_uri": "https://localhost:8080/",
          "height": 84,
          "referenced_widgets": [
            "b823b420658e4ee38ab1624239f62099",
            "8aeb31c060094f169a50f82a04429ec4",
            "7b095996f7be488f8023191a823d4e1d",
            "7288b73d57fd4c84b34fbe8b0b0e37df",
            "247338a1a989499895b64b9f166bcf35",
            "6a72010478704423a9ab401f85a3245c",
            "361736b10d9e40e4a99acf854e453dc5",
            "402a7d3aef34402b9609519b96a33c3c",
            "f0680b448725499ab23a053984b93f17",
            "fb8ea4330eeb4bf888c75e90e18f0433",
            "0a0b9b113bf048d98fc56fb5ffca4c33"
          ]
        },
        "id": "r8D5MtAieklO",
        "outputId": "27de985d-b77e-41af-bd65-ce3b096482c3"
      },
      "execution_count": 23,
      "outputs": [
        {
          "output_type": "display_data",
          "data": {
            "text/plain": [
              "model.safetensors:   0%|          | 0.00/440M [00:00<?, ?B/s]"
            ],
            "application/vnd.jupyter.widget-view+json": {
              "version_major": 2,
              "version_minor": 0,
              "model_id": "b823b420658e4ee38ab1624239f62099"
            }
          },
          "metadata": {}
        },
        {
          "output_type": "stream",
          "name": "stderr",
          "text": [
            "Some weights of BertForSequenceClassification were not initialized from the model checkpoint at bert-base-uncased and are newly initialized: ['classifier.bias', 'classifier.weight']\n",
            "You should probably TRAIN this model on a down-stream task to be able to use it for predictions and inference.\n"
          ]
        }
      ]
    },
    {
      "cell_type": "markdown",
      "source": [
        "### 7. Set up training arguments"
      ],
      "metadata": {
        "id": "qGjtIxmWkf6J"
      }
    },
    {
      "cell_type": "code",
      "source": [
        "training_args = TrainingArguments(\n",
        "    output_dir='./results',          # Output directory\n",
        "    evaluation_strategy=\"epoch\",     # Evaluate at the end of each epoch\n",
        "    learning_rate=2e-5,              # Learning rate\n",
        "    per_device_train_batch_size=8,   # Batch size for training\n",
        "    per_device_eval_batch_size=8,    # Batch size for evaluation\n",
        "    num_train_epochs=10,             # Number of training epochs\n",
        "    weight_decay=0.01,               # Weight decay\n",
        "    logging_dir='./logs',            # Log directory\n",
        "    report_to=\"none\"                 # Disable wandb logging\n",
        ")\n"
      ],
      "metadata": {
        "colab": {
          "base_uri": "https://localhost:8080/"
        },
        "id": "aiGeaKJfEIzy",
        "outputId": "89622285-5f62-4fcf-9327-3ea913bc02db"
      },
      "execution_count": 24,
      "outputs": [
        {
          "output_type": "stream",
          "name": "stderr",
          "text": [
            "/usr/local/lib/python3.10/dist-packages/transformers/training_args.py:1568: FutureWarning: `evaluation_strategy` is deprecated and will be removed in version 4.46 of 🤗 Transformers. Use `eval_strategy` instead\n",
            "  warnings.warn(\n"
          ]
        }
      ]
    },
    {
      "cell_type": "markdown",
      "source": [
        "### 8. Set up the Trainer"
      ],
      "metadata": {
        "id": "lOW-osoikqF5"
      }
    },
    {
      "cell_type": "code",
      "source": [
        "trainer = Trainer(\n",
        "    model=model,\n",
        "    args=training_args,\n",
        "    train_dataset=train_dataset,\n",
        "    eval_dataset=eval_dataset,\n",
        ")"
      ],
      "metadata": {
        "id": "iF2vsK1QFLii"
      },
      "execution_count": 25,
      "outputs": []
    },
    {
      "cell_type": "markdown",
      "source": [
        "### 9. Train the model"
      ],
      "metadata": {
        "id": "moGS-Qqwk6e-"
      }
    },
    {
      "cell_type": "code",
      "source": [
        "trainer.train()"
      ],
      "metadata": {
        "colab": {
          "base_uri": "https://localhost:8080/",
          "height": 406
        },
        "id": "0Sr50gvoFU-6",
        "outputId": "feafa3c6-a504-4d64-c1ef-8eb1ce3bae32"
      },
      "execution_count": 26,
      "outputs": [
        {
          "output_type": "display_data",
          "data": {
            "text/plain": [
              "<IPython.core.display.HTML object>"
            ],
            "text/html": [
              "\n",
              "    <div>\n",
              "      \n",
              "      <progress value='10' max='10' style='width:300px; height:20px; vertical-align: middle;'></progress>\n",
              "      [10/10 01:42, Epoch 10/10]\n",
              "    </div>\n",
              "    <table border=\"1\" class=\"dataframe\">\n",
              "  <thead>\n",
              " <tr style=\"text-align: left;\">\n",
              "      <th>Epoch</th>\n",
              "      <th>Training Loss</th>\n",
              "      <th>Validation Loss</th>\n",
              "    </tr>\n",
              "  </thead>\n",
              "  <tbody>\n",
              "    <tr>\n",
              "      <td>1</td>\n",
              "      <td>No log</td>\n",
              "      <td>497413344.000000</td>\n",
              "    </tr>\n",
              "    <tr>\n",
              "      <td>2</td>\n",
              "      <td>No log</td>\n",
              "      <td>497406464.000000</td>\n",
              "    </tr>\n",
              "    <tr>\n",
              "      <td>3</td>\n",
              "      <td>No log</td>\n",
              "      <td>497397312.000000</td>\n",
              "    </tr>\n",
              "    <tr>\n",
              "      <td>4</td>\n",
              "      <td>No log</td>\n",
              "      <td>497390880.000000</td>\n",
              "    </tr>\n",
              "    <tr>\n",
              "      <td>5</td>\n",
              "      <td>No log</td>\n",
              "      <td>497385312.000000</td>\n",
              "    </tr>\n",
              "    <tr>\n",
              "      <td>6</td>\n",
              "      <td>No log</td>\n",
              "      <td>497380256.000000</td>\n",
              "    </tr>\n",
              "    <tr>\n",
              "      <td>7</td>\n",
              "      <td>No log</td>\n",
              "      <td>497375968.000000</td>\n",
              "    </tr>\n",
              "    <tr>\n",
              "      <td>8</td>\n",
              "      <td>No log</td>\n",
              "      <td>497373632.000000</td>\n",
              "    </tr>\n",
              "    <tr>\n",
              "      <td>9</td>\n",
              "      <td>No log</td>\n",
              "      <td>497371552.000000</td>\n",
              "    </tr>\n",
              "    <tr>\n",
              "      <td>10</td>\n",
              "      <td>No log</td>\n",
              "      <td>497370240.000000</td>\n",
              "    </tr>\n",
              "  </tbody>\n",
              "</table><p>"
            ]
          },
          "metadata": {}
        },
        {
          "output_type": "execute_result",
          "data": {
            "text/plain": [
              "TrainOutput(global_step=10, training_loss=59778656.0, metrics={'train_runtime': 113.909, 'train_samples_per_second': 0.088, 'train_steps_per_second': 0.088, 'total_flos': 2631086929920.0, 'train_loss': 59778656.0, 'epoch': 10.0})"
            ]
          },
          "metadata": {},
          "execution_count": 26
        }
      ]
    },
    {
      "cell_type": "markdown",
      "source": [
        "### 10. Evaluate the model's performance (on the validation set)"
      ],
      "metadata": {
        "id": "hiuU1b6QlCiF"
      }
    },
    {
      "cell_type": "code",
      "source": [
        "predictions = trainer.predict(eval_dataset)"
      ],
      "metadata": {
        "colab": {
          "base_uri": "https://localhost:8080/",
          "height": 17
        },
        "id": "h31shuv0HAG_",
        "outputId": "b6c4c54d-1c87-4f1f-d037-26e92f5193c8"
      },
      "execution_count": 27,
      "outputs": [
        {
          "output_type": "display_data",
          "data": {
            "text/plain": [
              "<IPython.core.display.HTML object>"
            ],
            "text/html": []
          },
          "metadata": {}
        }
      ]
    },
    {
      "cell_type": "markdown",
      "source": [
        "### 10.1 Extract true and predicted values"
      ],
      "metadata": {
        "id": "9NxnOqMelP_2"
      }
    },
    {
      "cell_type": "code",
      "source": [
        "y_true = [example[\"labels\"] for example in eval_dataset]\n",
        "y_pred = predictions.predictions.flatten()"
      ],
      "metadata": {
        "id": "te_zBUbBHOTl"
      },
      "execution_count": 28,
      "outputs": []
    },
    {
      "cell_type": "markdown",
      "source": [
        "### 10.2 Calculate evaluation metrics (RMSE and MAE)"
      ],
      "metadata": {
        "id": "Fh7BgWTSlYHY"
      }
    },
    {
      "cell_type": "code",
      "source": [
        "rmse = mean_squared_error(y_true, y_pred, squared=False)\n",
        "mae = mean_absolute_error(y_true, y_pred)"
      ],
      "metadata": {
        "colab": {
          "base_uri": "https://localhost:8080/"
        },
        "id": "eLIowoAuHUXQ",
        "outputId": "d73f5b3b-bc01-4736-b655-67f5d2b88eb6"
      },
      "execution_count": 29,
      "outputs": [
        {
          "output_type": "stream",
          "name": "stderr",
          "text": [
            "/usr/local/lib/python3.10/dist-packages/sklearn/metrics/_regression.py:492: FutureWarning: 'squared' is deprecated in version 1.4 and will be removed in 1.6. To calculate the root mean squared error, use the function'root_mean_squared_error'.\n",
            "  warnings.warn(\n"
          ]
        }
      ]
    },
    {
      "cell_type": "markdown",
      "source": [
        "### 10.3 Print out the evaluation metrics"
      ],
      "metadata": {
        "id": "4N8W1jh-lkVc"
      }
    },
    {
      "cell_type": "code",
      "source": [
        "print(f\"RMSE: {rmse}\")\n",
        "print(f\"MAE: {mae}\")"
      ],
      "metadata": {
        "colab": {
          "base_uri": "https://localhost:8080/"
        },
        "id": "m_0DMeLwHVKL",
        "outputId": "31e3f8a1-18da-4ed6-90ef-3a1a0981d208"
      },
      "execution_count": 30,
      "outputs": [
        {
          "output_type": "stream",
          "name": "stdout",
          "text": [
            "RMSE: 22301.797597694396\n",
            "MAE: 22301.797597694396\n"
          ]
        }
      ]
    },
    {
      "cell_type": "markdown",
      "source": [
        "### 11. True vs Predicted values"
      ],
      "metadata": {
        "id": "lTez-mM7lsSD"
      }
    },
    {
      "cell_type": "code",
      "source": [
        "plt.figure(figsize=(8, 6))\n",
        "plt.scatter(y_true, y_pred, alpha=0.6, label=\"Predictions\")\n",
        "plt.plot([min(y_true), max(y_true)], [min(y_true), max(y_true)], color='red', linestyle='--', label=\"Ideal Fit\")\n",
        "plt.xlabel('True Expression Levels')\n",
        "plt.ylabel('Predicted Expression Levels')\n",
        "plt.title('True vs Predicted Gene Expression')\n",
        "plt.legend()\n",
        "plt.grid()\n",
        "plt.show()"
      ],
      "metadata": {
        "colab": {
          "base_uri": "https://localhost:8080/",
          "height": 564
        },
        "id": "C3POCumJhvbA",
        "outputId": "87536e51-ddbb-43c1-fe3a-5bec4ebd70c2"
      },
      "execution_count": 31,
      "outputs": [
        {
          "output_type": "display_data",
          "data": {
            "text/plain": [
              "<Figure size 800x600 with 1 Axes>"
            ],
            "image/png": "[encoded data removed]"
          },
          "metadata": {}
        }
      ]
    },
    {
      "cell_type": "markdown",
      "source": [
        "### 12. (EXTRA EVALUATION) Checking if the dataset isnt too or biased"
      ],
      "metadata": {
        "id": "rw6s91dlmPhb"
      }
    },
    {
      "cell_type": "code",
      "source": [
        "print(df['expression'].describe())\n",
        "print(df['expression'].unique())"
      ],
      "metadata": {
        "colab": {
          "base_uri": "https://localhost:8080/"
        },
        "id": "2PIMiQIhitF2",
        "outputId": "e8cd7a18-9a40-4064-e674-fa90e6dfab04"
      },
      "execution_count": 32,
      "outputs": [
        {
          "output_type": "stream",
          "name": "stdout",
          "text": [
            "count        2.000000\n",
            "mean     15017.975000\n",
            "std      10303.005421\n",
            "min       7732.650000\n",
            "25%      11375.312500\n",
            "50%      15017.975000\n",
            "75%      18660.637500\n",
            "max      22303.300000\n",
            "Name: expression, dtype: float64\n",
            "[22303.3   7732.65]\n"
          ]
        }
      ]
    },
    {
      "cell_type": "markdown",
      "source": [
        "### 12.1 (EXTRA EVALUATION) Inspect predictions"
      ],
      "metadata": {
        "id": "9CU7WFaemoPo"
      }
    },
    {
      "cell_type": "code",
      "source": [
        "print(\"Predictions:\", y_pred)\n",
        "print(\"True Values:\", y_true)"
      ],
      "metadata": {
        "colab": {
          "base_uri": "https://localhost:8080/"
        },
        "id": "aOtqezP9ixC3",
        "outputId": "cfe583f0-594f-4975-e304-cd710a3ccf61"
      },
      "execution_count": 33,
      "outputs": [
        {
          "output_type": "stream",
          "name": "stdout",
          "text": [
            "Predictions: [1.5024023]\n",
            "True Values: [22303.3]\n"
          ]
        }
      ]
    },
    {
      "cell_type": "markdown",
      "source": [
        "### 13. Saving the results"
      ],
      "metadata": {
        "id": "MYjLkX4gmzNs"
      }
    },
    {
      "cell_type": "code",
      "source": [
        "results_df = pd.DataFrame({\n",
        "    \"True Expression\": y_true,\n",
        "    \"Predicted Expression\": y_pred\n",
        "})\n",
        "\n",
        "results_df.to_csv(\"model_predictions.csv\", index=False)\n",
        "print(\"Predictions saved to model_predictions.csv\")"
      ],
      "metadata": {
        "colab": {
          "base_uri": "https://localhost:8080/"
        },
        "id": "yYxEuTq4jI66",
        "outputId": "9a837b88-4bbf-43ab-8249-2d1127077a44"
      },
      "execution_count": 34,
      "outputs": [
        {
          "output_type": "stream",
          "name": "stdout",
          "text": [
            "Predictions saved to model_predictions.csv\n"
          ]
        }
      ]
    }
  ]
}